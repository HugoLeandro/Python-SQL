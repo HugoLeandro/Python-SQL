{
 "cells": [
  {
   "cell_type": "markdown",
   "metadata": {},
   "source": [
    "# Desafio Python e SQL\n",
    "\n",
    "### Create"
   ]
  },
  {
   "cell_type": "code",
   "execution_count": 11,
   "metadata": {},
   "outputs": [
    {
     "name": "stdout",
     "output_type": "stream",
     "text": [
      "Conexão bem Sucedida\n"
     ]
    }
   ],
   "source": [
    "import pyodbc\n",
    "dados_conexao = (\"Driver={SQLite3 ODBC Driver};\"\n",
    "                 \"Server=localhost;\"\n",
    "                 \"Database=chinook.db\")\n",
    "conexao = pyodbc.connect(dados_conexao)\n",
    "print('Conexão bem Sucedida')"
   ]
  },
  {
   "cell_type": "code",
   "execution_count": 12,
   "metadata": {},
   "outputs": [],
   "source": [
    "cursor = conexao.cursor()\n",
    "print('Conexão bem Sucedida')"
   ]
  },
  {
   "cell_type": "code",
   "execution_count": 13,
   "metadata": {},
   "outputs": [
    {
     "name": "stdout",
     "output_type": "stream",
     "text": [
      "Commit bem Sucedido\n"
     ]
    }
   ],
   "source": [
    "cursor.execute(\"\"\"\n",
    "    INSERT INTO albums (Title, ArtistId)\n",
    "    VALUES\n",
    "    ('NANANA NANANANA', 4),\n",
    "    ('uhuhuhuhuh uhuhuhuhu', 44)\n",
    "    \n",
    "    \"\"\")\n",
    "cursor.commit() #COMITAR - quando edita, so é salva quando usa o comit. Estilo um game offline\n",
    "print('Commit bem Sucedido')"
   ]
  },
  {
   "cell_type": "code",
   "execution_count": 14,
   "metadata": {},
   "outputs": [
    {
     "name": "stdout",
     "output_type": "stream",
     "text": [
      "Cursor e Conexão encerradas com sucesso\n"
     ]
    }
   ],
   "source": [
    "cursor.close() #NUNCA esqueça de fechar o cursor e a conexão\n",
    "conexao.close()\n",
    "print('Cursor e Conexão encerradas com sucesso')"
   ]
  }
 ],
 "metadata": {
  "kernelspec": {
   "display_name": "Python 3 (ipykernel)",
   "language": "python",
   "name": "python3"
  },
  "language_info": {
   "codemirror_mode": {
    "name": "ipython",
    "version": 3
   },
   "file_extension": ".py",
   "mimetype": "text/x-python",
   "name": "python",
   "nbconvert_exporter": "python",
   "pygments_lexer": "ipython3",
   "version": "3.9.13"
  }
 },
 "nbformat": 4,
 "nbformat_minor": 4
}
