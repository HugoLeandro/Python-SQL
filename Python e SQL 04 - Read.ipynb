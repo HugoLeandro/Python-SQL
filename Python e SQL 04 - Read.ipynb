{
 "cells": [
  {
   "cell_type": "markdown",
   "metadata": {},
   "source": [
    "# Desafio Python e SQL\n",
    "\n",
    "### Read"
   ]
  },
  {
   "cell_type": "code",
   "execution_count": null,
   "metadata": {},
   "outputs": [],
   "source": [
    "import pyodbc"
   ]
  },
  {
   "cell_type": "code",
   "execution_count": null,
   "metadata": {},
   "outputs": [],
   "source": [
    "dados_conexao = (\"Driver={SQLite3 ODBC Driver};\"\n",
    "                 \"Server=localhost;\"\n",
    "                 \"Database=chinook.db\")\n",
    "conexao = pyodbc.connect(dados_conexao)\n",
    "cursor = conexao.cursor()\n",
    "print('Conexão bem Sucedida')"
   ]
  },
  {
   "cell_type": "code",
   "execution_count": null,
   "metadata": {},
   "outputs": [],
   "source": [
    "cursor.execute(\"SELECT * FROM customers\")\n",
    "descricao = cursor.description\n",
    "valores = cursor.fetchall()"
   ]
  },
  {
   "cell_type": "code",
   "execution_count": null,
   "metadata": {},
   "outputs": [],
   "source": [
    "colunas = [tupla[0] for tupla in descricao] # list comprehension\n",
    "print(colunas) #Eu poderia subistituir a columns pela colunas, mas ja escrevi"
   ]
  },
  {
   "cell_type": "code",
   "execution_count": null,
   "metadata": {},
   "outputs": [],
   "source": [
    "cursor.close()\n",
    "conexao.close()\n",
    "print('Conexão Encerrada')"
   ]
  },
  {
   "cell_type": "code",
   "execution_count": null,
   "metadata": {},
   "outputs": [],
   "source": [
    "import pandas as pd                                             #Entao vai ficar os 2 exemplos\n",
    "tabela_clientes = pd.DataFrame.from_records(valores, columns= ['CustomerId', 'FirstName', \n",
    "                                                               'LastName','Company', 'Address',\n",
    "                                                               'City', 'State', \n",
    "                                                               'Country', 'PostalCode',\n",
    "                                                              'Phone', 'Fax','Email','SupportRepId'])\n",
    "display(tabela_clientes)"
   ]
  }
 ],
 "metadata": {
  "kernelspec": {
   "display_name": "Python 3 (ipykernel)",
   "language": "python",
   "name": "python3"
  },
  "language_info": {
   "codemirror_mode": {
    "name": "ipython",
    "version": 3
   },
   "file_extension": ".py",
   "mimetype": "text/x-python",
   "name": "python",
   "nbconvert_exporter": "python",
   "pygments_lexer": "ipython3",
   "version": "3.9.13"
  }
 },
 "nbformat": 4,
 "nbformat_minor": 4
}
